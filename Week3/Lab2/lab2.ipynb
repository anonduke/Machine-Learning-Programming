{
  "cells": [
    {
      "cell_type": "markdown",
      "metadata": {},
      "source": [
        "# Data Collection and Pre-Processing Lab Assignment\n",
        "\n",
        "## Step 1: Hello, Data!\n",
        "\n",
        "Load the raw CSV and display the first 3 rows."
      ]
    },
    {
      "cell_type": "code",
      "execution_count": 6,
      "metadata": {},
      "outputs": [
        {
          "data": {
            "application/vnd.microsoft.datawrangler.viewer.v0+json": {
              "columns": [
                {
                  "name": "index",
                  "rawType": "int64",
                  "type": "integer"
                },
                {
                  "name": "Region",
                  "rawType": "object",
                  "type": "string"
                },
                {
                  "name": "Country",
                  "rawType": "object",
                  "type": "string"
                },
                {
                  "name": "Item Type",
                  "rawType": "object",
                  "type": "string"
                },
                {
                  "name": "Sales Channel",
                  "rawType": "object",
                  "type": "string"
                },
                {
                  "name": "Order Priority",
                  "rawType": "object",
                  "type": "string"
                },
                {
                  "name": "Order Date",
                  "rawType": "object",
                  "type": "string"
                },
                {
                  "name": "Order ID",
                  "rawType": "int64",
                  "type": "integer"
                },
                {
                  "name": "Ship Date",
                  "rawType": "object",
                  "type": "string"
                },
                {
                  "name": "Units Sold",
                  "rawType": "int64",
                  "type": "integer"
                },
                {
                  "name": "Unit Price",
                  "rawType": "float64",
                  "type": "float"
                },
                {
                  "name": "Unit Cost",
                  "rawType": "float64",
                  "type": "float"
                },
                {
                  "name": "Total Revenue",
                  "rawType": "float64",
                  "type": "float"
                },
                {
                  "name": "Total Cost",
                  "rawType": "float64",
                  "type": "float"
                },
                {
                  "name": "Total Profit",
                  "rawType": "float64",
                  "type": "float"
                }
              ],
              "ref": "e70d8441-3b82-4ef3-b60e-3dcb269fd315",
              "rows": [
                [
                  "0",
                  "Middle East and North Africa",
                  "Azerbaijan",
                  "Snacks",
                  "Online",
                  "C",
                  "10/8/2014",
                  "535113847",
                  "10/23/2014",
                  "934",
                  "152.58",
                  "97.44",
                  "142509.72",
                  "91008.96",
                  "51500.76"
                ],
                [
                  "1",
                  "Central America and the Caribbean",
                  "Panama",
                  "Cosmetics",
                  "Offline",
                  "L",
                  "2/22/2015",
                  "874708545",
                  "2/27/2015",
                  "4551",
                  "437.2",
                  "263.33",
                  "1989697.2",
                  "1198414.83",
                  "791282.37"
                ],
                [
                  "2",
                  "Sub-Saharan Africa",
                  "Sao Tome and Principe",
                  "Fruits",
                  "Offline",
                  "M",
                  "12/9/2015",
                  "854349935",
                  "1/18/2016",
                  "9986",
                  "9.33",
                  "6.92",
                  "93169.38",
                  "69103.12",
                  "24066.26"
                ]
              ],
              "shape": {
                "columns": 14,
                "rows": 3
              }
            },
            "text/html": [
              "<div>\n",
              "<style scoped>\n",
              "    .dataframe tbody tr th:only-of-type {\n",
              "        vertical-align: middle;\n",
              "    }\n",
              "\n",
              "    .dataframe tbody tr th {\n",
              "        vertical-align: top;\n",
              "    }\n",
              "\n",
              "    .dataframe thead th {\n",
              "        text-align: right;\n",
              "    }\n",
              "</style>\n",
              "<table border=\"1\" class=\"dataframe\">\n",
              "  <thead>\n",
              "    <tr style=\"text-align: right;\">\n",
              "      <th></th>\n",
              "      <th>Region</th>\n",
              "      <th>Country</th>\n",
              "      <th>Item Type</th>\n",
              "      <th>Sales Channel</th>\n",
              "      <th>Order Priority</th>\n",
              "      <th>Order Date</th>\n",
              "      <th>Order ID</th>\n",
              "      <th>Ship Date</th>\n",
              "      <th>Units Sold</th>\n",
              "      <th>Unit Price</th>\n",
              "      <th>Unit Cost</th>\n",
              "      <th>Total Revenue</th>\n",
              "      <th>Total Cost</th>\n",
              "      <th>Total Profit</th>\n",
              "    </tr>\n",
              "  </thead>\n",
              "  <tbody>\n",
              "    <tr>\n",
              "      <th>0</th>\n",
              "      <td>Middle East and North Africa</td>\n",
              "      <td>Azerbaijan</td>\n",
              "      <td>Snacks</td>\n",
              "      <td>Online</td>\n",
              "      <td>C</td>\n",
              "      <td>10/8/2014</td>\n",
              "      <td>535113847</td>\n",
              "      <td>10/23/2014</td>\n",
              "      <td>934</td>\n",
              "      <td>152.58</td>\n",
              "      <td>97.44</td>\n",
              "      <td>142509.72</td>\n",
              "      <td>91008.96</td>\n",
              "      <td>51500.76</td>\n",
              "    </tr>\n",
              "    <tr>\n",
              "      <th>1</th>\n",
              "      <td>Central America and the Caribbean</td>\n",
              "      <td>Panama</td>\n",
              "      <td>Cosmetics</td>\n",
              "      <td>Offline</td>\n",
              "      <td>L</td>\n",
              "      <td>2/22/2015</td>\n",
              "      <td>874708545</td>\n",
              "      <td>2/27/2015</td>\n",
              "      <td>4551</td>\n",
              "      <td>437.20</td>\n",
              "      <td>263.33</td>\n",
              "      <td>1989697.20</td>\n",
              "      <td>1198414.83</td>\n",
              "      <td>791282.37</td>\n",
              "    </tr>\n",
              "    <tr>\n",
              "      <th>2</th>\n",
              "      <td>Sub-Saharan Africa</td>\n",
              "      <td>Sao Tome and Principe</td>\n",
              "      <td>Fruits</td>\n",
              "      <td>Offline</td>\n",
              "      <td>M</td>\n",
              "      <td>12/9/2015</td>\n",
              "      <td>854349935</td>\n",
              "      <td>1/18/2016</td>\n",
              "      <td>9986</td>\n",
              "      <td>9.33</td>\n",
              "      <td>6.92</td>\n",
              "      <td>93169.38</td>\n",
              "      <td>69103.12</td>\n",
              "      <td>24066.26</td>\n",
              "    </tr>\n",
              "  </tbody>\n",
              "</table>\n",
              "</div>"
            ],
            "text/plain": [
              "                              Region                Country  Item Type  \\\n",
              "0       Middle East and North Africa             Azerbaijan     Snacks   \n",
              "1  Central America and the Caribbean                 Panama  Cosmetics   \n",
              "2                 Sub-Saharan Africa  Sao Tome and Principe     Fruits   \n",
              "\n",
              "  Sales Channel Order Priority Order Date   Order ID   Ship Date  Units Sold  \\\n",
              "0        Online              C  10/8/2014  535113847  10/23/2014         934   \n",
              "1       Offline              L  2/22/2015  874708545   2/27/2015        4551   \n",
              "2       Offline              M  12/9/2015  854349935   1/18/2016        9986   \n",
              "\n",
              "   Unit Price  Unit Cost  Total Revenue  Total Cost  Total Profit  \n",
              "0      152.58      97.44      142509.72    91008.96      51500.76  \n",
              "1      437.20     263.33     1989697.20  1198414.83     791282.37  \n",
              "2        9.33       6.92       93169.38    69103.12      24066.26  "
            ]
          },
          "execution_count": 6,
          "metadata": {},
          "output_type": "execute_result"
        }
      ],
      "source": [
        "import pandas as pd\n",
        "\n",
        "# Load first 500 rows from your CSV (adjust path as needed)\n",
        "df = pd.read_csv('100000 Sales Records.csv').head(500)\n",
        "df.head(3)"
      ]
    },
    {
      "cell_type": "markdown",
      "metadata": {},
      "source": [
        "## Step 2: Pick the Right Container\n",
        "\n",
        "For transaction records, a Python class is most flexible: it allows attribute access and methods for cleaning and calculations. While `dict` or `namedtuple` can store data, only a class can encapsulate both data and behavior (e.g., `.clean()`, `.total()`)."
      ]
    },
    {
      "cell_type": "code",
      "execution_count": 7,
      "metadata": {},
      "outputs": [],
      "source": [
        "from typing import Optional\n",
        "\n",
        "class Transaction:\n",
        "    def __init__(self, region, country, item_type, sales_channel, order_priority,\n",
        "                 order_date, order_id, ship_date, units_sold, unit_price, unit_cost,\n",
        "                 total_revenue, total_cost, total_profit):\n",
        "        self.region = region\n",
        "        self.country = country\n",
        "        self.item_type = item_type\n",
        "        self.sales_channel = sales_channel\n",
        "        self.order_priority = order_priority\n",
        "        self.order_date = order_date\n",
        "        self.order_id = order_id\n",
        "        self.ship_date = ship_date\n",
        "        self.units_sold = float(units_sold)\n",
        "        self.unit_price = float(unit_price)\n",
        "        self.unit_cost = float(unit_cost)\n",
        "        self.total_revenue = float(total_revenue)\n",
        "        self.total_cost = float(total_cost)\n",
        "        self.total_profit = float(total_profit)\n",
        "\n",
        "    def clean(self):\n",
        "        # Example cleaning: fix negative units or prices\n",
        "        if self.units_sold < 0:\n",
        "            self.units_sold = abs(self.units_sold)\n",
        "        if self.unit_price < 0:\n",
        "            self.unit_price = abs(self.unit_price)\n",
        "\n",
        "    def total(self):\n",
        "        # Calculate total revenue\n",
        "        return self.units_sold * self.unit_price"
      ]
    },
    {
      "cell_type": "markdown",
      "metadata": {},
      "source": [
        "## Step 4: Bulk Loader\n",
        "\n",
        "Define a function to load transactions from the DataFrame."
      ]
    },
    {
      "cell_type": "code",
      "execution_count": 13,
      "metadata": {},
      "outputs": [
        {
          "name": "stdout",
          "output_type": "stream",
          "text": [
            "Loaded 500 transactions.\n"
          ]
        }
      ],
      "source": [
        "from typing import List\n",
        "\n",
        "def load_transactions(df: pd.DataFrame) -> List[Transaction]:\n",
        "    transactions = []\n",
        "    for _, row in df.iterrows():\n",
        "        t = Transaction(\n",
        "            row['Region'], row['Country'], row['Item Type'], row['Sales Channel'],\n",
        "            row['Order Priority'], row['Order Date'], row['Order ID'],\n",
        "            row['Ship Date'], row['Units Sold'], row['Unit Price'],\n",
        "            row['Unit Cost'], row['Total Revenue'], row['Total Cost'],\n",
        "            row['Total Profit']\n",
        "        )\n",
        "        transactions.append(t)\n",
        "    return transactions\n",
        "\n",
        "transactions = load_transactions(df)\n",
        "print(f\"Loaded {len(transactions)} transactions.\")"
      ]
    },
    {
      "cell_type": "markdown",
      "metadata": {},
      "source": [
        "## Step 5: Quick Profiling\n",
        "\n",
        "Show min, mean, max unit price, and unique shipping countries."
      ]
    },
    {
      "cell_type": "code",
      "execution_count": 14,
      "metadata": {},
      "outputs": [
        {
          "name": "stdout",
          "output_type": "stream",
          "text": [
            "Min unit price: 9.33\n",
            "Mean unit price: 278.65074\n",
            "Max unit price: 668.27\n",
            "Unique countries: 173\n"
          ]
        }
      ],
      "source": [
        "unit_prices = [t.unit_price for t in transactions]\n",
        "print(\"Min unit price:\", min(unit_prices))\n",
        "print(\"Mean unit price:\", sum(unit_prices)/len(unit_prices))\n",
        "print(\"Max unit price:\", max(unit_prices))\n",
        "\n",
        "unique_countries = set(t.country for t in transactions)\n",
        "print(\"Unique countries:\", len(unique_countries))"
      ]
    },
    {
      "cell_type": "markdown",
      "metadata": {},
      "source": [
        "## Step 6: Spot the Grime\n",
        "\n",
        "Identify at least three dirty data cases:\n",
        "- Missing or NaN values in key fields\n",
        "- Negative or zero units sold\n",
        "- Inconsistent country or region names"
      ]
    },
    {
      "cell_type": "code",
      "execution_count": 15,
      "metadata": {},
      "outputs": [
        {
          "name": "stdout",
          "output_type": "stream",
          "text": [
            "Missing units sold: 0\n",
            "Negative or zero units sold: 0\n",
            "Missing country: 0\n"
          ]
        }
      ],
      "source": [
        "import numpy as np\n",
        "\n",
        "# Example checks\n",
        "missing_units = sum(pd.isna(t.units_sold) for t in transactions)\n",
        "negative_units = sum(t.units_sold <= 0 for t in transactions)\n",
        "missing_country = sum(pd.isna(t.country) or t.country.strip() == '' for t in transactions)\n",
        "\n",
        "print(\"Missing units sold:\", missing_units)\n",
        "print(\"Negative or zero units sold:\", negative_units)\n",
        "print(\"Missing country:\", missing_country)"
      ]
    },
    {
      "cell_type": "markdown",
      "metadata": {},
      "source": [
        "## Step 7: Cleaning Rules\n",
        "\n",
        "Apply fixes inside `.clean()` and show before/after counts."
      ]
    },
    {
      "cell_type": "code",
      "execution_count": 16,
      "metadata": {},
      "outputs": [
        {
          "name": "stdout",
          "output_type": "stream",
          "text": [
            "Negative units before: 0, after cleaning: 0\n"
          ]
        }
      ],
      "source": [
        "# Before cleaning\n",
        "neg_before = sum(t.units_sold < 0 for t in transactions)\n",
        "\n",
        "# Apply cleaning\n",
        "for t in transactions:\n",
        "    t.clean()\n",
        "\n",
        "neg_after = sum(t.units_sold < 0 for t in transactions)\n",
        "print(f\"Negative units before: {neg_before}, after cleaning: {neg_after}\")"
      ]
    },
    {
      "cell_type": "markdown",
      "metadata": {},
      "source": [
        "## Step 8: Transformations\n",
        "\n",
        "Example: Standardize region names (title case), parse order dates."
      ]
    },
    {
      "cell_type": "code",
      "execution_count": 17,
      "metadata": {},
      "outputs": [],
      "source": [
        "from datetime import datetime\n",
        "\n",
        "for t in transactions:\n",
        "    t.region = t.region.title()\n",
        "    try:\n",
        "        t.order_date = datetime.strptime(str(t.order_date), '%m/%d/%Y')\n",
        "    except Exception:\n",
        "        pass  # Keep as string if parsing fails"
      ]
    },
    {
      "cell_type": "markdown",
      "metadata": {},
      "source": [
        "## Step 9: Feature Engineering\n",
        "\n",
        "Add days between order and ship date."
      ]
    },
    {
      "cell_type": "code",
      "execution_count": 18,
      "metadata": {},
      "outputs": [],
      "source": [
        "for t in transactions:\n",
        "    try:\n",
        "        order_dt = datetime.strptime(str(t.order_date), '%m/%d/%Y')\n",
        "        ship_dt = datetime.strptime(str(t.ship_date), '%m/%d/%Y')\n",
        "        t.days_to_ship = (ship_dt - order_dt).days\n",
        "    except Exception:\n",
        "        t.days_to_ship = None\n",
        "\n",
        "# Add to DataFrame for later serialization\n",
        "df['days_to_ship'] = [t.days_to_ship for t in transactions]"
      ]
    },
    {
      "cell_type": "markdown",
      "metadata": {},
      "source": [
        "## Step 10: Mini-Aggregation\n",
        "\n",
        "Revenue per country."
      ]
    },
    {
      "cell_type": "code",
      "execution_count": 19,
      "metadata": {},
      "outputs": [
        {
          "name": "stdout",
          "output_type": "stream",
          "text": [
            "{'Afghanistan': 7819032.05,\n",
            " 'Albania': 2945119.52,\n",
            " 'Algeria': 55401.54,\n",
            " 'Andorra': 6059368.199999999,\n",
            " 'Angola': 5549949.82,\n",
            " 'Antigua and Barbuda ': 1357081.78,\n",
            " 'Armenia': 191709.16999999998,\n",
            " 'Australia': 5199088.3100000005,\n",
            " 'Azerbaijan': 1428752.1199999999,\n",
            " 'Bahrain': 363738.5,\n",
            " 'Bangladesh': 1146965.36,\n",
            " 'Barbados': 711214.4600000001,\n",
            " 'Belarus': 3654833.07,\n",
            " 'Belgium': 1141909.35,\n",
            " 'Belize': 16492580.69,\n",
            " 'Benin': 10864269.61,\n",
            " 'Bhutan': 5143785.3,\n",
            " 'Bosnia and Herzegovina': 2292584.95,\n",
            " 'Botswana': 1386599.6,\n",
            " 'Bulgaria': 9353285.2,\n",
            " 'Burkina Faso': 5075869.49,\n",
            " 'Burundi': 11232361.469999999,\n",
            " 'Cambodia': 3052016.91,\n",
            " 'Cameroon': 1367529.5999999999,\n",
            " 'Canada': 2827749.89,\n",
            " 'Cape Verde': 465682.89999999997,\n",
            " 'Central African Republic': 2767841.4899999998,\n",
            " 'Chad': 163888.17,\n",
            " 'China': 7675524.680000001,\n",
            " 'Comoros': 1298587.2400000002,\n",
            " 'Costa Rica': 5268171.8,\n",
            " \"Cote d'Ivoire\": 2831622.79,\n",
            " 'Croatia': 12239482.23,\n",
            " 'Cuba': 1927615.41,\n",
            " 'Cyprus': 3233638.98,\n",
            " 'Czech Republic': 6285173.210000001,\n",
            " 'Democratic Republic of the Congo': 793940.1499999999,\n",
            " 'Denmark': 3577822.4,\n",
            " 'Djibouti': 966464.46,\n",
            " 'Dominica': 8444218.290000001,\n",
            " 'Dominican Republic': 4858691.98,\n",
            " 'East Timor': 2250361.26,\n",
            " 'Egypt': 5973895.87,\n",
            " 'El Salvador': 1354266.9,\n",
            " 'Equatorial Guinea': 3325604.7199999997,\n",
            " 'Eritrea': 1430954.35,\n",
            " 'Estonia': 2578284.3200000003,\n",
            " 'Ethiopia': 816216.01,\n",
            " 'Federated States of Micronesia': 47965.53,\n",
            " 'Fiji': 48571.98,\n",
            " 'Finland': 4328885.28,\n",
            " 'France': 7471674.190000001,\n",
            " 'Gabon': 3064692.67,\n",
            " 'Georgia': 15561823.900000002,\n",
            " 'Germany': 3874540.4299999997,\n",
            " 'Ghana': 1188405.77,\n",
            " 'Greece': 3419652.14,\n",
            " 'Greenland': 479889.98,\n",
            " 'Grenada': 3023597.74,\n",
            " 'Guinea': 6933710.800000001,\n",
            " 'Guinea-Bissau': 5399730.859999999,\n",
            " 'Haiti': 466268.99,\n",
            " 'Hungary': 208946.4,\n",
            " 'Iceland': 1561347.7000000002,\n",
            " 'India': 2138179.76,\n",
            " 'Indonesia': 3910178.91,\n",
            " 'Iran': 1820380.55,\n",
            " 'Iraq': 4161854.9200000004,\n",
            " 'Ireland': 1803707.73,\n",
            " 'Israel': 8937981.709999999,\n",
            " 'Italy': 6314154.19,\n",
            " 'Japan': 628826.61,\n",
            " 'Jordan': 6558232.5,\n",
            " 'Kazakhstan': 2147889.01,\n",
            " 'Kenya': 1224833.44,\n",
            " 'Kiribati': 1307000.28,\n",
            " 'Kosovo': 14356654.490000002,\n",
            " 'Kuwait': 4919357.66,\n",
            " 'Kyrgyzstan': 2261730.2600000002,\n",
            " 'Laos': 1647472.36,\n",
            " 'Latvia': 1657788.32,\n",
            " 'Lebanon': 7272926.64,\n",
            " 'Lesotho': 7574158.229999999,\n",
            " 'Liberia': 47450.0,\n",
            " 'Libya': 8022469.6899999995,\n",
            " 'Lithuania': 1010279.71,\n",
            " 'Luxembourg': 4081348.81,\n",
            " 'Macedonia': 3288426.96,\n",
            " 'Madagascar': 920046.3200000001,\n",
            " 'Malawi': 3727123.8,\n",
            " 'Maldives': 6256243.9,\n",
            " 'Mali': 6355158.390000001,\n",
            " 'Malta': 4201345.35,\n",
            " 'Marshall Islands': 3581806.16,\n",
            " 'Mauritania': 2734241.23,\n",
            " 'Mauritius ': 9532507.21,\n",
            " 'Mexico': 1638119.9500000002,\n",
            " 'Moldova ': 2764979.96,\n",
            " 'Monaco': 7955260.27,\n",
            " 'Mongolia': 3794905.03,\n",
            " 'Montenegro': 5616165.46,\n",
            " 'Morocco': 1697519.74,\n",
            " 'Mozambique': 10754096.31,\n",
            " 'Myanmar': 1744752.3000000003,\n",
            " 'Namibia': 2973108.2800000003,\n",
            " 'Nauru': 169254.15000000002,\n",
            " 'Nepal': 600929.12,\n",
            " 'Netherlands': 9332229.93,\n",
            " 'Nicaragua': 1562497.2,\n",
            " 'Niger': 1598425.59,\n",
            " 'North Korea': 91455.87000000001,\n",
            " 'Norway': 7972290.609999999,\n",
            " 'Oman': 34996.83,\n",
            " 'Pakistan': 2433828.8200000003,\n",
            " 'Palau': 2141091.75,\n",
            " 'Panama': 12292754.37,\n",
            " 'Papua New Guinea': 6756075.29,\n",
            " 'Philippines': 1974436.26,\n",
            " 'Poland': 2323341.92,\n",
            " 'Portugal': 1311359.56,\n",
            " 'Qatar': 96133.70000000001,\n",
            " 'Republic of the Congo': 7503325.02,\n",
            " 'Romania': 1673091.6,\n",
            " 'Russia': 4214681.1,\n",
            " 'Rwanda': 1350019.23,\n",
            " 'Saint Kitts and Nevis ': 8268168.680000001,\n",
            " 'Saint Lucia': 70413.51,\n",
            " 'Saint Vincent and the Grenadines': 1039033.49,\n",
            " 'Samoa ': 871872.7,\n",
            " 'San Marino': 713726.16,\n",
            " 'Sao Tome and Principe': 838383.52,\n",
            " 'Saudi Arabia': 7995419.429999999,\n",
            " 'Senegal': 1452803.31,\n",
            " 'Serbia': 79734.18000000001,\n",
            " 'Sierra Leone': 2881823.41,\n",
            " 'Singapore': 1666978.4,\n",
            " 'Slovakia': 9201330.719999999,\n",
            " 'Slovenia': 3266795.4699999993,\n",
            " 'Solomon Islands': 174995.6,\n",
            " 'Somalia': 2191631.95,\n",
            " 'South Africa': 2657905.89,\n",
            " 'South Korea': 6637174.68,\n",
            " 'South Sudan': 5876830.869999999,\n",
            " 'Spain': 3683653.2,\n",
            " 'Sri Lanka': 1149788.1,\n",
            " 'Sudan': 3271811.2600000002,\n",
            " 'Swaziland': 1316163.51,\n",
            " 'Sweden': 2926702.63,\n",
            " 'Switzerland': 3872955.7399999998,\n",
            " 'Syria': 2159520.9899999998,\n",
            " 'Taiwan': 1035974.4,\n",
            " 'Tajikistan': 1569416.1,\n",
            " 'Tanzania': 4704992.25,\n",
            " 'Thailand': 8233031.89,\n",
            " 'The Bahamas': 10675772.149999999,\n",
            " 'The Gambia': 1038154.3200000001,\n",
            " 'Togo': 900685.76,\n",
            " 'Tonga': 3022852.06,\n",
            " 'Trinidad and Tobago': 83111.64,\n",
            " 'Tunisia ': 8715419.74,\n",
            " 'Turkey': 5296390.399999999,\n",
            " 'Turkmenistan': 7505699.04,\n",
            " 'Tuvalu': 6455761.4,\n",
            " 'Uganda': 10804564.430000002,\n",
            " 'Ukraine': 6464989.18,\n",
            " 'United Arab Emirates': 8357436.739999999,\n",
            " 'United Kingdom': 6146250.37,\n",
            " 'United States of America': 3404791.1799999997,\n",
            " 'Uzbekistan': 5641091.1899999995,\n",
            " 'Vatican City': 2939051.46,\n",
            " 'Vietnam': 1986791.4,\n",
            " 'Zambia': 1705954.4,\n",
            " 'Zimbabwe': 16980.6}\n"
          ]
        }
      ],
      "source": [
        "country_revenue = {}\n",
        "for t in transactions:\n",
        "    country_revenue[t.country] = country_revenue.get(t.country, 0) + t.total()\n",
        "\n",
        "import pprint\n",
        "pprint.pprint(country_revenue)"
      ]
    },
    {
      "cell_type": "markdown",
      "metadata": {},
      "source": [
        "## Step 11: Serialization Checkpoint\n",
        "\n",
        "Save cleaned data to JSON and Parquet."
      ]
    },
    {
      "cell_type": "code",
      "execution_count": 23,
      "metadata": {},
      "outputs": [],
      "source": [
        "import pyarrow as pa\n",
        "import pyarrow.parquet as pq\n",
        "\n",
        "# Convert to DataFrame for serialization\n",
        "cleaned_df = pd.DataFrame([t.__dict__ for t in transactions])\n",
        "cleaned_df.to_json('100000 Sales Records.csv', orient='records', lines=True)\n",
        "\n",
        "table = pa.Table.from_pandas(cleaned_df)\n",
        "pq.write_table(table, 'cleaned_transactions.parquet')"
      ]
    },
    {
      "cell_type": "markdown",
      "metadata": {},
      "source": [
        "## Step 12: Soft Interview Reflection\n",
        "\n",
        "Using OOP allowed me to encapsulate both data and cleaning logic in a single, reusable structure. This made it easy to apply transformations and feature engineering consistently across all records, improving maintainability and readability."
      ]
    },
    {
      "cell_type": "markdown",
      "metadata": {},
      "source": [
        "## Data Dictionary\n",
        "\n",
        "| Field         | Type    | Description                                 | Source         |\n",
        "|---------------|---------|---------------------------------------------|----------------|\n",
        "| region        | string  | Geographical region                         | sales CSV      |\n",
        "| country       | string  | Country of transaction                      | sales CSV      |\n",
        "| item_type     | string  | Type of item sold                           | sales CSV      |\n",
        "| sales_channel | string  | Online or offline sales                     | sales CSV      |\n",
        "| order_priority| string  | Order priority code                         | sales CSV      |\n",
        "| order_date    | date    | Date of order                               | sales CSV      |\n",
        "| order_id      | string  | Unique order identifier                     | sales CSV      |\n",
        "| ship_date     | date    | Date order was shipped                      | sales CSV      |\n",
        "| units_sold    | float   | Number of units sold                        | sales CSV      |\n",
        "| unit_price    | float   | Price per unit                              | sales CSV      |\n",
        "| unit_cost     | float   | Cost per unit                               | sales CSV      |\n",
        "| total_revenue | float   | Total revenue for the order                 | sales CSV      |\n",
        "| total_cost    | float   | Total cost for the order                    | sales CSV      |\n",
        "| total_profit  | float   | Total profit for the order                  | sales CSV      |\n",
        "| days_to_ship  | int     | Days between order and shipping             | engineered     |"
      ]
    }
  ],
  "metadata": {
    "kernelspec": {
      "display_name": "env",
      "language": "python",
      "name": "python3"
    },
    "language_info": {
      "codemirror_mode": {
        "name": "ipython",
        "version": 3
      },
      "file_extension": ".py",
      "mimetype": "text/x-python",
      "name": "python",
      "nbconvert_exporter": "python",
      "pygments_lexer": "ipython3",
      "version": "3.13.3"
    }
  },
  "nbformat": 4,
  "nbformat_minor": 5
}
