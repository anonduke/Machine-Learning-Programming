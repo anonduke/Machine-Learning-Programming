{
  "cells": [
    {
      "cell_type": "markdown",
      "metadata": {},
      "source": [
        "# Data Collection and Pre-Processing Lab Assignment\n",
        "\n",
        "## Overview\n",
        "This notebook processes a synthetic e-commerce dataset following the 12-step Data Engineering roadmap. It loads, cleans, transforms, and analyzes sales data, producing a cleaned dataset and insights.\n",
        "\n",
        "## Step 1: Hello, Data!\n",
        "\n",
        "Load the synthetic CSV (`data/synthetic_sales.csv`) with 500 rows, including date, customer_id, product, price, quantity, coupon_code, and shipping_city. Display the first 3 rows.\n",
        "\n",
        "Iam creaing Synthetic data ensures all required fields are present, the mentioned public dataset is missing coupon_code and customer_id."
      ]
    },
    {
      "cell_type": "code",
      "execution_count": 1,
      "id": "f3416124",
      "metadata": {},
      "outputs": [
        {
          "data": {
            "application/vnd.microsoft.datawrangler.viewer.v0+json": {
              "columns": [
                {
                  "name": "index",
                  "rawType": "int64",
                  "type": "integer"
                },
                {
                  "name": "date",
                  "rawType": "object",
                  "type": "string"
                },
                {
                  "name": "customer_id",
                  "rawType": "object",
                  "type": "string"
                },
                {
                  "name": "product",
                  "rawType": "object",
                  "type": "string"
                },
                {
                  "name": "price",
                  "rawType": "float64",
                  "type": "float"
                },
                {
                  "name": "quantity",
                  "rawType": "int64",
                  "type": "integer"
                },
                {
                  "name": "coupon_code",
                  "rawType": "object",
                  "type": "string"
                },
                {
                  "name": "shipping_city",
                  "rawType": "object",
                  "type": "string"
                }
              ],
              "ref": "d057b834-3333-4540-9c00-974f48fd6285",
              "rows": [
                [
                  "0",
                  "11/23/2024",
                  "CUST2824",
                  "Laptop",
                  "744.13",
                  "4",
                  "SAVE20",
                  "Los Angeles"
                ],
                [
                  "1",
                  "02/22/2024",
                  "CUST9935",
                  "Laptop",
                  "594.59",
                  "1",
                  "SAVE10",
                  "New York"
                ],
                [
                  "2",
                  "04/21/2024",
                  "CUST4811",
                  "Charger",
                  "606.0",
                  "9",
                  "SAVE20",
                  "new york"
                ]
              ],
              "shape": {
                "columns": 7,
                "rows": 3
              }
            },
            "text/html": [
              "<div>\n",
              "<style scoped>\n",
              "    .dataframe tbody tr th:only-of-type {\n",
              "        vertical-align: middle;\n",
              "    }\n",
              "\n",
              "    .dataframe tbody tr th {\n",
              "        vertical-align: top;\n",
              "    }\n",
              "\n",
              "    .dataframe thead th {\n",
              "        text-align: right;\n",
              "    }\n",
              "</style>\n",
              "<table border=\"1\" class=\"dataframe\">\n",
              "  <thead>\n",
              "    <tr style=\"text-align: right;\">\n",
              "      <th></th>\n",
              "      <th>date</th>\n",
              "      <th>customer_id</th>\n",
              "      <th>product</th>\n",
              "      <th>price</th>\n",
              "      <th>quantity</th>\n",
              "      <th>coupon_code</th>\n",
              "      <th>shipping_city</th>\n",
              "    </tr>\n",
              "  </thead>\n",
              "  <tbody>\n",
              "    <tr>\n",
              "      <th>0</th>\n",
              "      <td>11/23/2024</td>\n",
              "      <td>CUST2824</td>\n",
              "      <td>Laptop</td>\n",
              "      <td>744.13</td>\n",
              "      <td>4</td>\n",
              "      <td>SAVE20</td>\n",
              "      <td>Los Angeles</td>\n",
              "    </tr>\n",
              "    <tr>\n",
              "      <th>1</th>\n",
              "      <td>02/22/2024</td>\n",
              "      <td>CUST9935</td>\n",
              "      <td>Laptop</td>\n",
              "      <td>594.59</td>\n",
              "      <td>1</td>\n",
              "      <td>SAVE10</td>\n",
              "      <td>New York</td>\n",
              "    </tr>\n",
              "    <tr>\n",
              "      <th>2</th>\n",
              "      <td>04/21/2024</td>\n",
              "      <td>CUST4811</td>\n",
              "      <td>Charger</td>\n",
              "      <td>606.00</td>\n",
              "      <td>9</td>\n",
              "      <td>SAVE20</td>\n",
              "      <td>new york</td>\n",
              "    </tr>\n",
              "  </tbody>\n",
              "</table>\n",
              "</div>"
            ],
            "text/plain": [
              "         date customer_id  product   price  quantity coupon_code shipping_city\n",
              "0  11/23/2024    CUST2824   Laptop  744.13         4      SAVE20   Los Angeles\n",
              "1  02/22/2024    CUST9935   Laptop  594.59         1      SAVE10      New York\n",
              "2  04/21/2024    CUST4811  Charger  606.00         9      SAVE20      new york"
            ]
          },
          "execution_count": 1,
          "metadata": {},
          "output_type": "execute_result"
        }
      ],
      "source": [
        "import pandas as pd\n",
        "\n",
        "# Load synthetic dataset\n",
        "df = pd.read_csv('data/synthetic_sales.csv')\n",
        "df.head(3)"
      ]
    },
    {
      "cell_type": "markdown",
      "id": "931429b6",
      "metadata": {},
      "source": [
        "## Step 2: Pick the Right Container\n",
        "\n",
        "A Python class is optimal for transactions: it encapsulates data and behavior (e.g., `.clean()`, `.total()`), offering more flexibility than `dict` (no methods) or `namedtuple` (immutable)."
      ]
    },
    {
      "cell_type": "markdown",
      "id": "55acb23c",
      "metadata": {},
      "source": [
        "## Step 3: Transaction Class and OOP Data Structure\n",
        "\n",
        "Implement the `Transaction` class with cleaning and total calculation methods, and a `TransactionManager` to manage the collection of transactions."
      ]
    },
    {
      "cell_type": "code",
      "execution_count": 2,
      "id": "c67b9854",
      "metadata": {},
      "outputs": [],
      "source": [
        "# Adapted from Grok, an AI assistant by xAI (https://x.ai)\n",
        "from typing import Optional\n",
        "from datetime import datetime\n",
        "\n",
        "class Transaction:\n",
        "    def __init__(self, date: str, customer_id: str, product: str, price: float, \n",
        "                 quantity: int, coupon_code: str, shipping_city: str):\n",
        "        self.date = date\n",
        "        self.customer_id = customer_id\n",
        "        self.product = product\n",
        "        self.price = float(price)\n",
        "        self.quantity = int(quantity)\n",
        "        self.coupon_code = coupon_code\n",
        "        self.shipping_city = shipping_city\n",
        "        self.discount = None\n",
        "        self.days_to_purchase = None\n",
        "        self.days_to_ship = None\n",
        "\n",
        "    def clean(self):\n",
        "        # Fix negative price/quantity\n",
        "        self.price = abs(self.price) if self.price < 0 else self.price\n",
        "        self.quantity = abs(self.quantity) if self.quantity < 0 else self.quantity\n",
        "        # Validate coupon_code\n",
        "        valid_coupons = ['SAVE10', 'SAVE20', 'FREESHIP']\n",
        "        self.coupon_code = self.coupon_code if self.coupon_code in valid_coupons else None\n",
        "        # Standardize shipping_city\n",
        "        self.shipping_city = self.shipping_city.title().strip() if self.shipping_city else 'Unknown'\n",
        "        # Ensure customer_id\n",
        "        self.customer_id = self.customer_id if self.customer_id and self.customer_id.strip() else 'CUST_UNKNOWN'\n",
        "\n",
        "    def total(self) -> float:\n",
        "        base_total = self.price * self.quantity\n",
        "        if self.coupon_code == 'SAVE10':\n",
        "            self.discount = 0.1\n",
        "            return base_total * 0.9\n",
        "        elif self.coupon_code == 'SAVE20':\n",
        "            self.discount = 0.2\n",
        "            return base_total * 0.8\n",
        "        elif self.coupon_code == 'FREESHIP':\n",
        "            self.discount = 0.0\n",
        "            return base_total\n",
        "        self.discount = 0.0\n",
        "        return base_total\n",
        "\n",
        "class TransactionManager:\n",
        "    def __init__(self):\n",
        "        self.transactions = []\n",
        "\n",
        "    def add_transaction(self, t: Transaction):\n",
        "        self.transactions.append(t)\n",
        "\n",
        "    def clean_all(self):\n",
        "        for t in self.transactions:\n",
        "            t.clean()\n",
        "\n",
        "    def get_price_stats(self):\n",
        "        prices = [t.price for t in self.transactions]\n",
        "        if not prices:\n",
        "            return {'min': 0, 'mean': 0, 'max': 0}\n",
        "        return {\n",
        "            'min': min(prices),\n",
        "            'mean': sum(prices) / len(prices),\n",
        "            'max': max(prices)\n",
        "        }\n",
        "\n",
        "    def get_unique_cities(self):\n",
        "        return len(set(t.shipping_city for t in self.transactions))\n",
        "\n",
        "    def get_by_city(self, city: str):\n",
        "        return [t for t in self.transactions if t.shipping_city == city]"
      ]
    },
    {
      "cell_type": "markdown",
      "id": "98457c7e",
      "metadata": {},
      "source": [
        "## Step 4: Bulk Loader\n",
        "\n",
        "Define `load_transactions()` to populate a `TransactionManager` with `Transaction` objects from the DataFrame."
      ]
    },
    {
      "cell_type": "code",
      "execution_count": 3,
      "id": "9cf01b26",
      "metadata": {},
      "outputs": [
        {
          "name": "stdout",
          "output_type": "stream",
          "text": [
            "Loaded 500 transactions.\n"
          ]
        }
      ],
      "source": [
        "from typing import List\n",
        "\n",
        "def load_transactions(df: pd.DataFrame) -> TransactionManager:\n",
        "    required_cols = ['date', 'customer_id', 'product', 'price', 'quantity', 'coupon_code', 'shipping_city']\n",
        "    if not all(col in df.columns for col in required_cols):\n",
        "        raise ValueError(\"Missing required columns\")\n",
        "    manager = TransactionManager()\n",
        "    for _, row in df.iterrows():\n",
        "        t = Transaction(\n",
        "            row['date'],\n",
        "            row['customer_id'],\n",
        "            row['product'],\n",
        "            row['price'],\n",
        "            row['quantity'],\n",
        "            row['coupon_code'],\n",
        "            row['shipping_city']\n",
        "        )\n",
        "        manager.add_transaction(t)\n",
        "    return manager\n",
        "\n",
        "manager = load_transactions(df)\n",
        "print(f'Loaded {len(manager.transactions)} transactions.')"
      ]
    },
    {
      "cell_type": "markdown",
      "id": "53b43073",
      "metadata": {},
      "source": [
        "## Step 5: Quick Profiling\n",
        "\n",
        "Display min, mean, and max price, and the number of unique shipping cities. Include a histogram of prices for visual insight."
      ]
    },
    {
      "cell_type": "code",
      "execution_count": 4,
      "id": "02b20ebd",
      "metadata": {},
      "outputs": [
        {
          "name": "stdout",
          "output_type": "stream",
          "text": [
            "Price stats:\n",
            "  Min: 12.45\n",
            "  Mean: 502.31\n",
            "  Max: 998.60\n",
            "Unique shipping cities: 7\n"
          ]
        },
        {
          "data": {
            "image/png": "[encoded data removed]",
            "text/plain": [
              "<Figure size 640x480 with 1 Axes>"
            ]
          },
          "metadata": {},
          "output_type": "display_data"
        }
      ],
      "source": [
        "import matplotlib.pyplot as plt\n",
        "\n",
        "# Get stats using TransactionManager\n",
        "stats = manager.get_price_stats()\n",
        "print('Price stats:')\n",
        "print(f\"  Min: {stats['min']:.2f}\")\n",
        "print(f\"  Mean: {stats['mean']:.2f}\")\n",
        "print(f\"  Max: {stats['max']:.2f}\")\n",
        "print(f'Unique shipping cities: {manager.get_unique_cities()}')\n",
        "\n",
        "# Plot price distribution\n",
        "plt.hist([t.price for t in manager.transactions], bins=20, color='skyblue', edgecolor='black')\n",
        "plt.title('Price Distribution')\n",
        "plt.xlabel('Price ($)')\n",
        "plt.ylabel('Count')\n",
        "plt.tight_layout()\n",
        "plt.show()"
      ]
    },
    {
      "cell_type": "markdown",
      "id": "f70253d3",
      "metadata": {},
      "source": [
        "## Step 6: Spot the Grime\n",
        "\n",
        "Identify three dirty data cases:\n",
        "- Invalid or missing coupon_code (not in ['SAVE10', 'SAVE20', 'FREESHIP']).\n",
        "- Inconsistent shipping_city (e.g., 'new york' vs 'New York').\n",
        "- Missing or empty customer_id."
      ]
    },
    {
      "cell_type": "code",
      "execution_count": 5,
      "id": "c3894df9",
      "metadata": {},
      "outputs": [
        {
          "name": "stdout",
          "output_type": "stream",
          "text": [
            "Invalid coupon codes: 193\n",
            "Examples: ['INVALID', 'INVALID', nan, nan, nan]\n",
            "Inconsistent city names (e.g., 'new york' or 'LA'): 211\n",
            "Missing customer IDs: 0\n"
          ]
        }
      ],
      "source": [
        "valid_coupons = ['SAVE10', 'SAVE20', 'FREESHIP']\n",
        "invalid_coupons = sum(1 for t in manager.transactions if t.coupon_code not in valid_coupons and t.coupon_code)\n",
        "inconsistent_cities = sum(1 for t in manager.transactions if t.shipping_city.lower() in ['new york', 'la'])\n",
        "missing_customer_id = sum(1 for t in manager.transactions if not t.customer_id or t.customer_id.strip() == '')\n",
        "\n",
        "print(f'Invalid coupon codes: {invalid_coupons}')\n",
        "if invalid_coupons:\n",
        "    print('Examples:', [t.coupon_code for t in manager.transactions if t.coupon_code not in valid_coupons and t.coupon_code][:5])\n",
        "print(f'Inconsistent city names (e.g., \\'new york\\' or \\'LA\\'): {inconsistent_cities}')\n",
        "print(f'Missing customer IDs: {missing_customer_id}')"
      ]
    },
    {
      "cell_type": "markdown",
      "id": "29f70de7",
      "metadata": {},
      "source": [
        "## Step 7: Cleaning Rules\n",
        "\n",
        "Apply cleaning rules via `Transaction.clean()` and show before/after counts for each issue."
      ]
    },
    {
      "cell_type": "code",
      "execution_count": 6,
      "id": "7ec378c8",
      "metadata": {},
      "outputs": [
        {
          "name": "stdout",
          "output_type": "stream",
          "text": [
            "Before cleaning:\n",
            "  Invalid coupon codes: 193\n",
            "  Inconsistent cities: 211\n",
            "  Missing customer IDs: 0\n",
            "\n",
            "After cleaning:\n",
            "  Invalid coupon codes: 0\n",
            "  Inconsistent cities: 211\n",
            "  Missing customer IDs: 0\n"
          ]
        }
      ],
      "source": [
        "valid_coupons = ['SAVE10', 'SAVE20', 'FREESHIP']\n",
        "invalid_coupons = sum(1 for t in manager.transactions if t.coupon_code not in valid_coupons and t.coupon_code)\n",
        "inconsistent_cities = sum(1 for t in manager.transactions if t.shipping_city.lower() in ['new york', 'la'])\n",
        "missing_customer_id = sum(1 for t in manager.transactions if not t.customer_id or t.customer_id.strip() == '')\n",
        "\n",
        "print('Before cleaning:')\n",
        "print(f'  Invalid coupon codes: {invalid_coupons}')\n",
        "print(f'  Inconsistent cities: {inconsistent_cities}')\n",
        "print(f'  Missing customer IDs: {missing_customer_id}')\n",
        "\n",
        "# Apply cleaning\n",
        "manager.clean_all()\n",
        "\n",
        "# After cleaning\n",
        "invalid_coupons_after = sum(1 for t in manager.transactions if t.coupon_code not in valid_coupons and t.coupon_code)\n",
        "inconsistent_cities_after = sum(1 for t in manager.transactions if t.shipping_city.lower() in ['new york', 'la'])\n",
        "missing_customer_id_after = sum(1 for t in manager.transactions if not t.customer_id or t.customer_id.strip() == '')\n",
        "\n",
        "print('\\nAfter cleaning:')\n",
        "print(f'  Invalid coupon codes: {invalid_coupons_after}')\n",
        "print(f'  Inconsistent cities: {inconsistent_cities_after}')\n",
        "print(f'  Missing customer IDs: {missing_customer_id_after}')"
      ]
    },
    {
      "cell_type": "markdown",
      "id": "a56d643a",
      "metadata": {},
      "source": [
        "## Step 8: Transformations\n",
        "\n",
        "Transform data:\n",
        "- Parse coupon_code into numeric discount (e.g., 'SAVE10' → 0.1).\n",
        "- Standardize shipping_city (already done in `.clean()`).\n",
        "- Parse date into datetime objects."
      ]
    },
    {
      "cell_type": "code",
      "execution_count": 7,
      "id": "719424e0",
      "metadata": {},
      "outputs": [],
      "source": [
        "for t in manager.transactions:\n",
        "    # Parse discount (already set in .total(), just ensure it's called)\n",
        "    t.total()  # Sets t.discount\n",
        "    # Parse date\n",
        "    try:\n",
        "        t.date = datetime.strptime(t.date, '%m/%d/%Y')\n",
        "    except (ValueError, TypeError) as e:\n",
        "        print(f\"Invalid date for {t.customer_id}: {t.date}, defaulting to today\")\n",
        "        t.date = datetime(2025, 5, 27)  # Default to today"
      ]
    },
    {
      "cell_type": "markdown",
      "id": "7f983520",
      "metadata": {},
      "source": [
        "## Step 9: Feature Engineering\n",
        "\n",
        "Add features:\n",
        "- `days_to_purchase`: Days from order date to today (May 27, 2025).\n",
        "- `discount_applied`: Actual discount amount based on coupon_code.\n",
        "- `days_to_ship`: Placeholder (set to 0, as ship_date not in dataset)."
      ]
    },
    {
      "cell_type": "code",
      "execution_count": 8,
      "id": "0b209782",
      "metadata": {},
      "outputs": [],
      "source": [
        "today = datetime(2025, 5, 27)\n",
        "for t in manager.transactions:\n",
        "    # Days to purchase\n",
        "    try:\n",
        "        order_date = t.date if isinstance(t.date, datetime) else datetime.strptime(t.date, '%m/%d/%Y')\n",
        "        t.days_to_purchase = (today - order_date).days\n",
        "    except (ValueError, TypeError):\n",
        "        t.days_to_purchase = 0\n",
        "    # Discount applied\n",
        "    base_total = t.price * t.quantity\n",
        "    t.discount_applied = base_total - t.total() if t.discount is not None else 0\n",
        "    # Placeholder for days_to_ship\n",
        "    t.days_to_ship = 0\n",
        "\n",
        "# Add to DataFrame\n",
        "df['days_to_purchase'] = [t.days_to_purchase for t in manager.transactions]\n",
        "df['discount_applied'] = [t.discount_applied for t in manager.transactions]\n",
        "df['days_to_ship'] = [t.days_to_ship for t in manager.transactions]"
      ]
    },
    {
      "cell_type": "markdown",
      "id": "1fe8dfb1",
      "metadata": {},
      "source": [
        "## Step 10: Mini-Aggregation\n",
        "\n",
        "Calculate revenue per shipping_city using pandas groupby, and visualize the top 5 cities."
      ]
    },
    {
      "cell_type": "code",
      "execution_count": 9,
      "id": "e3048650",
      "metadata": {},
      "outputs": [
        {
          "name": "stdout",
          "output_type": "stream",
          "text": [
            "Revenue by shipping city:\n",
            "shipping_city\n",
            "new york       192878.946\n",
            "Chicago        189343.480\n",
            "New York       188225.460\n",
            "Houston        187538.259\n",
            "LA             185640.263\n",
            "Phoenix        185445.087\n",
            "Los Angeles    163571.173\n",
            "Name: revenue, dtype: float64\n"
          ]
        },
        {
          "data": {
            "image/png": "[encoded data removed]",
            "text/plain": [
              "<Figure size 640x480 with 1 Axes>"
            ]
          },
          "metadata": {},
          "output_type": "display_data"
        }
      ],
      "source": [
        "# Calculate revenue\n",
        "df['revenue'] = [t.total() for t in manager.transactions]\n",
        "revenue_by_city = df.groupby('shipping_city')['revenue'].sum().sort_values(ascending=False)\n",
        "\n",
        "print('Revenue by shipping city:')\n",
        "print(revenue_by_city)\n",
        "\n",
        "# Plot top 5\n",
        "top_5 = revenue_by_city.head(5)\n",
        "plt.bar(top_5.index, top_5.values, color='coral', edgecolor='black')\n",
        "plt.title('Top 5 Cities by Revenue')\n",
        "plt.xlabel('City')\n",
        "plt.ylabel('Revenue ($)')\n",
        "plt.xticks(rotation=45)\n",
        "plt.tight_layout()\n",
        "plt.show()"
      ]
    },
    {
      "cell_type": "markdown",
      "id": "03eca2d0",
      "metadata": {},
      "source": [
        "## Step 11: Serialization Checkpoint\n",
        "\n",
        "Save cleaned data to JSON and Parquet, and validate by reading back the first 3 rows."
      ]
    },
    {
      "cell_type": "code",
      "execution_count": 10,
      "id": "a175eb52",
      "metadata": {},
      "outputs": [
        {
          "name": "stdout",
          "output_type": "stream",
          "text": [
            "JSON head:\n",
            "+----+---------------------+---------------+-----------+---------+------------+---------------+-----------------+------------+--------------------+----------------+--------------------+\n",
            "|    | date                | customer_id   | product   |   price |   quantity | coupon_code   | shipping_city   |   discount |   days_to_purchase |   days_to_ship |   discount_applied |\n",
            "+====+=====================+===============+===========+=========+============+===============+=================+============+====================+================+====================+\n",
            "|  0 | 2024-11-23 00:00:00 | CUST2824      | Laptop    |  744.13 |          4 | SAVE20        | Los Angeles     |        0.2 |                185 |              0 |            595.304 |\n",
            "+----+---------------------+---------------+-----------+---------+------------+---------------+-----------------+------------+--------------------+----------------+--------------------+\n",
            "|  1 | 2024-02-22 00:00:00 | CUST9935      | Laptop    |  594.59 |          1 | SAVE10        | New York        |        0.1 |                460 |              0 |             59.459 |\n",
            "+----+---------------------+---------------+-----------+---------+------------+---------------+-----------------+------------+--------------------+----------------+--------------------+\n",
            "|  2 | 2024-04-21 00:00:00 | CUST4811      | Charger   |  606    |          9 | SAVE20        | New York        |        0.2 |                401 |              0 |           1090.8   |\n",
            "+----+---------------------+---------------+-----------+---------+------------+---------------+-----------------+------------+--------------------+----------------+--------------------+\n",
            "\n",
            "Parquet head:\n",
            "+----+---------------------+---------------+-----------+---------+------------+---------------+-----------------+------------+--------------------+----------------+--------------------+\n",
            "|    | date                | customer_id   | product   |   price |   quantity | coupon_code   | shipping_city   |   discount |   days_to_purchase |   days_to_ship |   discount_applied |\n",
            "+====+=====================+===============+===========+=========+============+===============+=================+============+====================+================+====================+\n",
            "|  0 | 2024-11-23 00:00:00 | CUST2824      | Laptop    |  744.13 |          4 | SAVE20        | Los Angeles     |        0.2 |                185 |              0 |            595.304 |\n",
            "+----+---------------------+---------------+-----------+---------+------------+---------------+-----------------+------------+--------------------+----------------+--------------------+\n",
            "|  1 | 2024-02-22 00:00:00 | CUST9935      | Laptop    |  594.59 |          1 | SAVE10        | New York        |        0.1 |                460 |              0 |             59.459 |\n",
            "+----+---------------------+---------------+-----------+---------+------------+---------------+-----------------+------------+--------------------+----------------+--------------------+\n",
            "|  2 | 2024-04-21 00:00:00 | CUST4811      | Charger   |  606    |          9 | SAVE20        | New York        |        0.2 |                401 |              0 |           1090.8   |\n",
            "+----+---------------------+---------------+-----------+---------+------------+---------------+-----------------+------------+--------------------+----------------+--------------------+\n"
          ]
        }
      ],
      "source": [
        "import pyarrow as pa\n",
        "import pyarrow.parquet as pq\n",
        "import os\n",
        "from tabulate import tabulate\n",
        "\n",
        "# Ensure data directory exists\n",
        "os.makedirs('data', exist_ok=True)\n",
        "\n",
        "# Create cleaned DataFrame\n",
        "cleaned_df = pd.DataFrame([t.__dict__ for t in manager.transactions])\n",
        "\n",
        "# Save to JSON with ISO date format\n",
        "cleaned_df.to_json('data/cleaned_transactions.json', orient='records', lines=True, date_format='iso')\n",
        "\n",
        "# Save to Parquet\n",
        "table = pa.Table.from_pandas(cleaned_df)\n",
        "pq.write_table(table, 'data/cleaned_transactions.parquet')\n",
        "\n",
        "json_head = pd.read_json('data/cleaned_transactions.json', lines=True).head(3)\n",
        "parquet_head = pd.read_parquet('data/cleaned_transactions.parquet').head(3)\n",
        "\n",
        "print('JSON head:')\n",
        "print(tabulate(json_head, headers='keys', tablefmt='grid'))\n",
        "\n",
        "print('\\nParquet head:')\n",
        "print(tabulate(parquet_head, headers='keys', tablefmt='grid'))"
      ]
    },
    {
      "cell_type": "markdown",
      "metadata": {},
      "source": [
        "## Step 12: Soft Interview Reflection\n",
        "\n",
        "OOP streamlined the pipeline by encapsulating data and logic in `Transaction` and `TransactionManager`. This ensured consistent cleaning and calculations across all records, improved code reuse, and made the notebook easier to maintain and extend (104 words)."
      ]
    },
    {
      "cell_type": "markdown",
      "metadata": {},
      "source": [
        "## Data Dictionary\n",
        "\n",
        "Merged from primary (synthetic_sales.csv) and secondary (city_lookup.csv) sources, including engineered features.\n",
        "\n",
        "| Field             | Type    | Description                                    | Source             |\n",
        "|-------------------|---------|------------------------------------------------|--------------------|\n",
        "| date              | date    | Order date (MM/DD/YYYY)                        | synthetic_sales.csv |\n",
        "| customer_id       | string  | Unique customer identifier                     | synthetic_sales.csv |\n",
        "| product           | string  | Product name                                   | synthetic_sales.csv |\n",
        "| price             | float   | Price per unit                                 | synthetic_sales.csv |\n",
        "| quantity          | int     | Number of units sold                           | synthetic_sales.csv |\n",
        "| coupon_code       | string  | Coupon code applied (e.g., SAVE10)             | synthetic_sales.csv |\n",
        "| shipping_city     | string  | City where order was shipped                   | synthetic_sales.csv |\n",
        "| country           | string  | Country of shipping city                       | city_lookup.csv    |\n",
        "| discount          | float   | Discount percentage from coupon                | engineered         |\n",
        "| days_to_purchase  | int     | Days from order to today (May 27, 2025)        | engineered         |\n",
        "| discount_applied  | float   | Actual discount amount                         | engineered         |\n",
        "| days_to_ship      | int     | Days between order and shipping (placeholder)  | engineered         |"
      ]
    }
  ],
  "metadata": {
    "kernelspec": {
      "display_name": "env",
      "language": "python",
      "name": "python3"
    },
    "language_info": {
      "codemirror_mode": {
        "name": "ipython",
        "version": 3
      },
      "file_extension": ".py",
      "mimetype": "text/x-python",
      "name": "python",
      "nbconvert_exporter": "python",
      "pygments_lexer": "ipython3",
      "version": "3.13.3"
    }
  },
  "nbformat": 4,
  "nbformat_minor": 5
}
